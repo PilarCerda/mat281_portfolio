{
 "cells": [
  {
   "cell_type": "markdown",
   "metadata": {
    "slideshow": {
     "slide_type": "slide"
    }
   },
   "source": [
    "# Laboratorio 7"
   ]
  },
  {
   "cell_type": "code",
   "execution_count": 4,
   "metadata": {},
   "outputs": [],
   "source": [
    "import numpy as np\n",
    "import pandas as pd\n",
    "import matplotlib.pyplot as plt\n",
    "import altair as alt\n",
    "\n",
    "from sklearn import datasets, linear_model\n",
    "from sklearn.metrics import mean_squared_error, r2_score\n",
    "\n",
    "alt.themes.enable('opaque')\n",
    "%matplotlib inline"
   ]
  },
  {
   "cell_type": "markdown",
   "metadata": {},
   "source": [
    "En este laboratorio utilizaremos los mismos datos de diabetes vistos en la clase"
   ]
  },
  {
   "cell_type": "code",
   "execution_count": 5,
   "metadata": {},
   "outputs": [
    {
     "data": {
      "text/html": [
       "<div>\n",
       "<style scoped>\n",
       "    .dataframe tbody tr th:only-of-type {\n",
       "        vertical-align: middle;\n",
       "    }\n",
       "\n",
       "    .dataframe tbody tr th {\n",
       "        vertical-align: top;\n",
       "    }\n",
       "\n",
       "    .dataframe thead th {\n",
       "        text-align: right;\n",
       "    }\n",
       "</style>\n",
       "<table border=\"1\" class=\"dataframe\">\n",
       "  <thead>\n",
       "    <tr style=\"text-align: right;\">\n",
       "      <th></th>\n",
       "      <th>age</th>\n",
       "      <th>sex</th>\n",
       "      <th>bmi</th>\n",
       "      <th>bp</th>\n",
       "      <th>s1</th>\n",
       "      <th>s2</th>\n",
       "      <th>s3</th>\n",
       "      <th>s4</th>\n",
       "      <th>s5</th>\n",
       "      <th>s6</th>\n",
       "      <th>target</th>\n",
       "    </tr>\n",
       "  </thead>\n",
       "  <tbody>\n",
       "    <tr>\n",
       "      <th>0</th>\n",
       "      <td>0.038076</td>\n",
       "      <td>0.050680</td>\n",
       "      <td>0.061696</td>\n",
       "      <td>0.021872</td>\n",
       "      <td>-0.044223</td>\n",
       "      <td>-0.034821</td>\n",
       "      <td>-0.043401</td>\n",
       "      <td>-0.002592</td>\n",
       "      <td>0.019908</td>\n",
       "      <td>-0.017646</td>\n",
       "      <td>151.0</td>\n",
       "    </tr>\n",
       "    <tr>\n",
       "      <th>1</th>\n",
       "      <td>-0.001882</td>\n",
       "      <td>-0.044642</td>\n",
       "      <td>-0.051474</td>\n",
       "      <td>-0.026328</td>\n",
       "      <td>-0.008449</td>\n",
       "      <td>-0.019163</td>\n",
       "      <td>0.074412</td>\n",
       "      <td>-0.039493</td>\n",
       "      <td>-0.068330</td>\n",
       "      <td>-0.092204</td>\n",
       "      <td>75.0</td>\n",
       "    </tr>\n",
       "    <tr>\n",
       "      <th>2</th>\n",
       "      <td>0.085299</td>\n",
       "      <td>0.050680</td>\n",
       "      <td>0.044451</td>\n",
       "      <td>-0.005671</td>\n",
       "      <td>-0.045599</td>\n",
       "      <td>-0.034194</td>\n",
       "      <td>-0.032356</td>\n",
       "      <td>-0.002592</td>\n",
       "      <td>0.002864</td>\n",
       "      <td>-0.025930</td>\n",
       "      <td>141.0</td>\n",
       "    </tr>\n",
       "    <tr>\n",
       "      <th>3</th>\n",
       "      <td>-0.089063</td>\n",
       "      <td>-0.044642</td>\n",
       "      <td>-0.011595</td>\n",
       "      <td>-0.036656</td>\n",
       "      <td>0.012191</td>\n",
       "      <td>0.024991</td>\n",
       "      <td>-0.036038</td>\n",
       "      <td>0.034309</td>\n",
       "      <td>0.022692</td>\n",
       "      <td>-0.009362</td>\n",
       "      <td>206.0</td>\n",
       "    </tr>\n",
       "    <tr>\n",
       "      <th>4</th>\n",
       "      <td>0.005383</td>\n",
       "      <td>-0.044642</td>\n",
       "      <td>-0.036385</td>\n",
       "      <td>0.021872</td>\n",
       "      <td>0.003935</td>\n",
       "      <td>0.015596</td>\n",
       "      <td>0.008142</td>\n",
       "      <td>-0.002592</td>\n",
       "      <td>-0.031991</td>\n",
       "      <td>-0.046641</td>\n",
       "      <td>135.0</td>\n",
       "    </tr>\n",
       "  </tbody>\n",
       "</table>\n",
       "</div>"
      ],
      "text/plain": [
       "        age       sex       bmi        bp        s1        s2        s3  \\\n",
       "0  0.038076  0.050680  0.061696  0.021872 -0.044223 -0.034821 -0.043401   \n",
       "1 -0.001882 -0.044642 -0.051474 -0.026328 -0.008449 -0.019163  0.074412   \n",
       "2  0.085299  0.050680  0.044451 -0.005671 -0.045599 -0.034194 -0.032356   \n",
       "3 -0.089063 -0.044642 -0.011595 -0.036656  0.012191  0.024991 -0.036038   \n",
       "4  0.005383 -0.044642 -0.036385  0.021872  0.003935  0.015596  0.008142   \n",
       "\n",
       "         s4        s5        s6  target  \n",
       "0 -0.002592  0.019908 -0.017646   151.0  \n",
       "1 -0.039493 -0.068330 -0.092204    75.0  \n",
       "2 -0.002592  0.002864 -0.025930   141.0  \n",
       "3  0.034309  0.022692 -0.009362   206.0  \n",
       "4 -0.002592 -0.031991 -0.046641   135.0  "
      ]
     },
     "execution_count": 5,
     "metadata": {},
     "output_type": "execute_result"
    }
   ],
   "source": [
    "diabetes_X, diabetes_y = datasets.load_diabetes(return_X_y=True, as_frame=True)\n",
    "diabetes = pd.concat([diabetes_X, diabetes_y], axis=1)\n",
    "diabetes.head()"
   ]
  },
  {
   "cell_type": "markdown",
   "metadata": {},
   "source": [
    "## Pregunta 1\n",
    "\n",
    "(1 pto)\n",
    "\n",
    "* ¿Por qué la columna de sexo tiene esos valores?\n",
    "* ¿Cuál es la columna a predecir?\n",
    "* ¿Crees que es necesario escalar o transformar los datos antes de comenzar el modelamiento?"
   ]
  },
  {
   "cell_type": "markdown",
   "metadata": {},
   "source": [
    "__Respuesta:__\n",
    "\n",
    "* La columna sexo tiene esos valores pues corresponde a la estandarizacion de los 2 valores numericos asignados a una variable cuantitativa\n",
    "* La columna target\n",
    "* Las variables tienen distintos significados físicos, Algoritmos funcionan mejor y por ultimo, Interpretación de resultados es más sencilla."
   ]
  },
  {
   "cell_type": "markdown",
   "metadata": {},
   "source": [
    "## Pregunta 2\n",
    "\n",
    "(1 pto)\n",
    "\n",
    "Realiza dos regresiones lineales con todas las _features_, el primer caso incluyendo intercepto y el segundo sin intercepto. Luego obtén la predicción para así calcular el error cuadrático medio y coeficiente de determinación de cada uno de ellos."
   ]
  },
  {
   "cell_type": "code",
   "execution_count": 7,
   "metadata": {},
   "outputs": [
    {
     "data": {
      "text/plain": [
       "LinearRegression()"
      ]
     },
     "execution_count": 7,
     "metadata": {},
     "output_type": "execute_result"
    }
   ],
   "source": [
    "from sklearn.linear_model import LinearRegression\n",
    "\n",
    "regr_with_incerpet = LinearRegression(fit_intercept=True).fit(diabetes_X, diabetes_y)\n",
    "regr_with_incerpet.fit(diabetes_X, diabetes_y)"
   ]
  },
  {
   "cell_type": "code",
   "execution_count": 8,
   "metadata": {},
   "outputs": [],
   "source": [
    "diabetes_y_pred_with_intercept = regr_with_incerpet.predict(diabetes_X) "
   ]
  },
  {
   "cell_type": "code",
   "execution_count": 9,
   "metadata": {},
   "outputs": [
    {
     "name": "stdout",
     "output_type": "stream",
     "text": [
      "Coefficients: \n",
      "[ -10.01219782 -239.81908937  519.83978679  324.39042769 -792.18416163\n",
      "  476.74583782  101.04457032  177.06417623  751.27932109   67.62538639]\n",
      "\n",
      "Intercept: \n",
      "152.1334841628965\n",
      "\n",
      "Mean squared error: 2859.69\n",
      "\n",
      "Coefficient of determination: 0.52\n"
     ]
    }
   ],
   "source": [
    "# Coeficientes\n",
    "print(f\"Coefficients: \\n{regr_with_incerpet.coef_}\\n\")\n",
    "# Intercepto\n",
    "print(f\"Intercept: \\n{regr_with_incerpet.intercept_}\\n\")\n",
    "# Error cuadrático medio\n",
    "print(f\"Mean squared error: {mean_squared_error( diabetes_y_pred_with_intercept, diabetes_y):.2f}\\n\")\n",
    "# Coeficiente de determinación\n",
    "print(f\"Coefficient of determination: {r2_score(diabetes_y, diabetes_y_pred_with_intercept):.2f}\") "
   ]
  },
  {
   "cell_type": "code",
   "execution_count": 10,
   "metadata": {},
   "outputs": [
    {
     "data": {
      "text/plain": [
       "LinearRegression(fit_intercept=False)"
      ]
     },
     "execution_count": 10,
     "metadata": {},
     "output_type": "execute_result"
    }
   ],
   "source": [
    "from sklearn.linear_model import LinearRegression\n",
    "\n",
    "regr_without_incerpet = LinearRegression(fit_intercept=False).fit(diabetes_X, diabetes_y)\n",
    "regr_without_incerpet .fit(diabetes_X, diabetes_y)"
   ]
  },
  {
   "cell_type": "code",
   "execution_count": 11,
   "metadata": {},
   "outputs": [],
   "source": [
    "diabetes_y_pred_without_intercept = regr_without_incerpet.predict(diabetes_X)"
   ]
  },
  {
   "cell_type": "code",
   "execution_count": 8,
   "metadata": {},
   "outputs": [
    {
     "name": "stdout",
     "output_type": "stream",
     "text": [
      "Coefficients: \n",
      "[ -10.01219782 -239.81908937  519.83978679  324.39042769 -792.18416163\n",
      "  476.74583782  101.04457032  177.06417623  751.27932109   67.62538639]\n",
      "\n",
      "Mean squared error: 26004.29\n",
      "\n",
      "Coefficient of determination: -3.39\n"
     ]
    }
   ],
   "source": [
    "# Coeficientes\n",
    "print(f\"Coefficients: \\n{regr_without_incerpet.coef_}\\n\")\n",
    "# Error cuadrático medio\n",
    "print(f\"Mean squared error: {mean_squared_error(diabetes_y_pred_without_intercept, diabetes_y):.2f}\\n\")\n",
    "# Coeficiente de determinación\n",
    "print(f\"Coefficient of determination: {r2_score( diabetes_y,diabetes_y_pred_without_intercept):.2f}\")"
   ]
  },
  {
   "cell_type": "markdown",
   "metadata": {},
   "source": [
    "**Pregunta: ¿Qué tan bueno fue el ajuste del modelo?**"
   ]
  },
  {
   "cell_type": "markdown",
   "metadata": {},
   "source": [
    "__Respuesta:__No es muy bueno, pues el coeficiente de determinacion = 0.52, no es sufuciente para considerar un buen modelo"
   ]
  },
  {
   "cell_type": "markdown",
   "metadata": {},
   "source": [
    "## Pregunta 3\n",
    "\n",
    "(1 pto)\n",
    "\n",
    "Realizar multiples regresiones lineales utilizando una sola _feature_ a la vez. \n",
    "\n",
    "En cada iteración:\n",
    "\n",
    "- Crea un arreglo `X`con solo una feature filtrando `X`.\n",
    "- Crea un modelo de regresión lineal con intercepto.\n",
    "- Ajusta el modelo anterior.\n",
    "- Genera una predicción con el modelo.\n",
    "- Calcula e imprime las métricas de la pregunta anterior."
   ]
  },
  {
   "cell_type": "code",
   "execution_count": 9,
   "metadata": {},
   "outputs": [
    {
     "name": "stdout",
     "output_type": "stream",
     "text": [
      "Feature: age\n",
      "\tCoefficients: [304.18307453]\n",
      "\tIntercept: 152.13348416289605\n",
      "\tMean squared error: 5720.55\n",
      "\tCoefficient of determination: 0.04\n",
      "\n",
      "Feature: sex\n",
      "\tCoefficients: [69.71535568]\n",
      "\tIntercept: 152.13348416289594\n",
      "\tMean squared error: 5918.89\n",
      "\tCoefficient of determination: 0.00\n",
      "\n",
      "Feature: bmi\n",
      "\tCoefficients: [949.43526038]\n",
      "\tIntercept: 152.1334841628967\n",
      "\tMean squared error: 3890.46\n",
      "\tCoefficient of determination: 0.34\n",
      "\n",
      "Feature: bp\n",
      "\tCoefficients: [714.7416437]\n",
      "\tIntercept: 152.13348416289585\n",
      "\tMean squared error: 4774.10\n",
      "\tCoefficient of determination: 0.19\n",
      "\n",
      "Feature: s1\n",
      "\tCoefficients: [343.25445189]\n",
      "\tIntercept: 152.13348416289597\n",
      "\tMean squared error: 5663.32\n",
      "\tCoefficient of determination: 0.04\n",
      "\n",
      "Feature: s2\n",
      "\tCoefficients: [281.78459335]\n",
      "\tIntercept: 152.1334841628959\n",
      "\tMean squared error: 5750.24\n",
      "\tCoefficient of determination: 0.03\n",
      "\n",
      "Feature: s3\n",
      "\tCoefficients: [-639.14527932]\n",
      "\tIntercept: 152.13348416289566\n",
      "\tMean squared error: 5005.66\n",
      "\tCoefficient of determination: 0.16\n",
      "\n",
      "Feature: s4\n",
      "\tCoefficients: [696.88303009]\n",
      "\tIntercept: 152.13348416289568\n",
      "\tMean squared error: 4831.14\n",
      "\tCoefficient of determination: 0.19\n",
      "\n",
      "Feature: s5\n",
      "\tCoefficients: [916.13872282]\n",
      "\tIntercept: 152.13348416289628\n",
      "\tMean squared error: 4030.99\n",
      "\tCoefficient of determination: 0.32\n",
      "\n",
      "Feature: s6\n",
      "\tCoefficients: [619.22282068]\n",
      "\tIntercept: 152.13348416289614\n",
      "\tMean squared error: 5062.38\n",
      "\tCoefficient of determination: 0.15\n",
      "\n"
     ]
    }
   ],
   "source": [
    "for col in diabetes_X.columns:\n",
    "    X_i = np.array(diabetes_X[col]).reshape(-1,1)\n",
    "    regr_i =  LinearRegression(fit_intercept=True).fit(X_i, diabetes_y)\n",
    "    regr_i.fit(X_i,diabetes_y)\n",
    "    diabetes_y_pred_i = regr_i.predict(X_i)\n",
    "    print(f\"Feature: {col}\")\n",
    "    print(f\"\\tCoefficients: {regr_i.coef_}\")\n",
    "    print(f\"\\tIntercept: {regr_i.intercept_}\")\n",
    "    print(f\"\\tMean squared error: {mean_squared_error(diabetes_y, diabetes_y_pred_i):.2f}\")\n",
    "    print(f\"\\tCoefficient of determination: {r2_score(diabetes_y, diabetes_y_pred_i):.2f}\\n\")"
   ]
  },
  {
   "cell_type": "markdown",
   "metadata": {},
   "source": [
    "**Pregunta: Si tuvieras que escoger una sola _feauture_, ¿Cuál sería? ¿Por qué?**"
   ]
  },
  {
   "cell_type": "markdown",
   "metadata": {},
   "source": [
    "**Respuesta:** Se escoge feature, el cual tenga mayor coeficiente de determinacion, es decir \"bmi\""
   ]
  },
  {
   "cell_type": "markdown",
   "metadata": {},
   "source": [
    "## Ejercicio 4\n",
    "\n",
    "(1 pto)\n",
    "\n",
    "Con la feature escogida en el ejercicio 3 realiza el siguiente gráfico:\n",
    "\n",
    "- Scatter Plot\n",
    "- Eje X: Valores de la feature escogida.\n",
    "- Eje Y: Valores de la columna a predecir (target).\n",
    "- En color rojo dibuja la recta correspondiente a la regresión lineal (utilizando `intercept_`y `coefs_`).\n",
    "- Coloca un título adecuado, nombre de los ejes, etc.\n",
    "\n",
    "Puedes utilizar `matplotlib` o `altair`, el que prefieras."
   ]
  },
  {
   "cell_type": "code",
   "execution_count": 13,
   "metadata": {},
   "outputs": [],
   "source": [
    "regr = linear_model.LinearRegression(fit_intercept=True).fit(np.array(diabetes_X['bmi']).reshape(-1,1), diabetes_y)\n",
    "    "
   ]
  },
  {
   "cell_type": "code",
   "execution_count": 16,
   "metadata": {},
   "outputs": [
    {
     "data": {
      "image/png": "[encoded data removed]",
      "text/plain": [
       "<Figure size 1440x720 with 1 Axes>"
      ]
     },
     "metadata": {
      "needs_background": "light"
     },
     "output_type": "display_data"
    }
   ],
   "source": [
    "fig = plt.figure(figsize=(20, 10))\n",
    "plt.scatter(np.array(diabetes_X['bmi']), diabetes_y)\n",
    "\n",
    "plt.plot(np.array(diabetes_X['bmi']), regr.intercept_ + np.array(diabetes_X['bmi']) * regr.coef_, marker='o', color='red')\n",
    "\n",
    "plt.xlabel('BMI')\n",
    "plt.ylabel('Target')\n",
    "plt.title(\" Predicción utilizando regresión lineal  de  \\n  BMI vs Target\")\n",
    "plt.grid(alpha=1)\n",
    "\n",
    "plt.show()"
   ]
  }
 ],
 "metadata": {
  "kernelspec": {
   "display_name": "Python 3",
   "language": "python",
   "name": "python3"
  },
  "language_info": {
   "codemirror_mode": {
    "name": "ipython",
    "version": 3
   },
   "file_extension": ".py",
   "mimetype": "text/x-python",
   "name": "python",
   "nbconvert_exporter": "python",
   "pygments_lexer": "ipython3",
   "version": "3.7.8"
  }
 },
 "nbformat": 4,
 "nbformat_minor": 4
}
